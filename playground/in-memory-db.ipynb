{
 "cells": [
  {
   "cell_type": "markdown",
   "id": "84bcf23e",
   "metadata": {},
   "source": [
    "# Playground - In-Memory DB"
   ]
  },
  {
   "cell_type": "markdown",
   "id": "7b8200a7",
   "metadata": {},
   "source": [
    "## Imports"
   ]
  },
  {
   "cell_type": "code",
   "execution_count": 1,
   "id": "f2f4104d",
   "metadata": {},
   "outputs": [
    {
     "data": {
      "text/plain": [
       "True"
      ]
     },
     "execution_count": 1,
     "metadata": {},
     "output_type": "execute_result"
    }
   ],
   "source": [
    "import openai\n",
    "import numpy as np\n",
    "import json\n",
    "import hnswlib\n",
    "import os\n",
    "import tiktoken\n",
    "from dotenv import load_dotenv\n",
    "from dataclasses import dataclass, asdict\n",
    "\n",
    "\n",
    "load_dotenv(\"../app/.env\")"
   ]
  },
  {
   "cell_type": "code",
   "execution_count": 2,
   "id": "8cf04f70",
   "metadata": {},
   "outputs": [],
   "source": [
    "OPENAI_API_KEY = os.getenv(\"OPENAI_API_KEY\")"
   ]
  },
  {
   "cell_type": "markdown",
   "id": "237bd4fe",
   "metadata": {},
   "source": [
    "## Read text"
   ]
  },
  {
   "cell_type": "markdown",
   "id": "0c16be6d",
   "metadata": {},
   "source": [
    "`Note:` use existing fetch logic"
   ]
  },
  {
   "cell_type": "code",
   "execution_count": 4,
   "id": "1e691796",
   "metadata": {},
   "outputs": [
    {
     "data": {
      "text/plain": [
       "309750"
      ]
     },
     "execution_count": 4,
     "metadata": {},
     "output_type": "execute_result"
    }
   ],
   "source": [
    "with open(\"../dev/hitler-wiki.txt\", \"r\") as file:\n",
    "    text = file.read()\n",
    "\n",
    "len(text)"
   ]
  },
  {
   "cell_type": "markdown",
   "id": "06e30ca3",
   "metadata": {},
   "source": [
    "## Chunk text"
   ]
  },
  {
   "cell_type": "code",
   "execution_count": 5,
   "id": "83f68fa9",
   "metadata": {},
   "outputs": [],
   "source": [
    "def chunk_text(text, model_name=\"text-embedding-3-large\"):\n",
    "    # Tokenizer initialisieren\n",
    "    enc = tiktoken.encoding_for_model(model_name)\n",
    "    tokens = enc.encode(text)\n",
    "    token_count = len(tokens)\n",
    "    \n",
    "    chunk_size = 800\n",
    "    overlap_prev = 200\n",
    "    overlap_next = 200\n",
    "\n",
    "    chunks = []\n",
    "    start = 0\n",
    "\n",
    "    while start < token_count:\n",
    "        # Indizes für Tokenbereiche berechnen\n",
    "        current_start = start\n",
    "        current_end = min(start + chunk_size, token_count)\n",
    "\n",
    "        prev_start = max(current_start - overlap_prev, 0)\n",
    "        prev_end = current_start\n",
    "\n",
    "        next_start = current_end\n",
    "        next_end = min(current_end + overlap_next, token_count)\n",
    "\n",
    "        # Chunk zusammensetzen\n",
    "        chunk_tokens = tokens[prev_start:prev_end] + tokens[current_start:current_end] + tokens[next_start:next_end]\n",
    "        chunk_text = enc.decode(chunk_tokens)\n",
    "\n",
    "        chunks.append(chunk_text)\n",
    "        start += chunk_size\n",
    "\n",
    "    return chunks\n",
    "\n",
    "\n",
    "chunks = chunk_text(text)"
   ]
  },
  {
   "cell_type": "code",
   "execution_count": 11,
   "id": "94492b2d",
   "metadata": {},
   "outputs": [],
   "source": [
    "enc = tiktoken.encoding_for_model(\"text-embedding-3-large\")\n",
    "tokens = enc.encode(text)\n",
    "token_count = len(tokens)"
   ]
  },
  {
   "cell_type": "code",
   "execution_count": 12,
   "id": "ede84b69",
   "metadata": {},
   "outputs": [
    {
     "data": {
      "text/plain": [
       "98703"
      ]
     },
     "execution_count": 12,
     "metadata": {},
     "output_type": "execute_result"
    }
   ],
   "source": [
    "token_count"
   ]
  },
  {
   "cell_type": "markdown",
   "id": "0b628ef4",
   "metadata": {},
   "source": [
    "## Create embeddings"
   ]
  },
  {
   "cell_type": "code",
   "execution_count": 37,
   "id": "4cf53aca",
   "metadata": {},
   "outputs": [],
   "source": [
    "def embed_chunks(chunks, model=\"text-embedding-3-large\"):\n",
    "    response = openai.embeddings.create(\n",
    "        input=chunks,\n",
    "        model=model\n",
    "    )\n",
    "\n",
    "    embeddings = np.array([record.embedding for record in response.data], dtype=np.float32)\n",
    "\n",
    "    return embeddings"
   ]
  },
  {
   "cell_type": "code",
   "execution_count": 38,
   "id": "08b4b7d9",
   "metadata": {},
   "outputs": [],
   "source": [
    "embeddings = embed_chunks(chunks)"
   ]
  },
  {
   "cell_type": "code",
   "execution_count": 40,
   "id": "3cc79ce7",
   "metadata": {},
   "outputs": [],
   "source": [
    "np.save(\"embeddings.npy\", embeddings)\n"
   ]
  },
  {
   "cell_type": "code",
   "execution_count": 13,
   "id": "96695275",
   "metadata": {},
   "outputs": [],
   "source": [
    "embeddings_loaded = np.load(\"embeddings.npy\")"
   ]
  },
  {
   "cell_type": "code",
   "execution_count": 14,
   "id": "fa49cd4f",
   "metadata": {},
   "outputs": [
    {
     "data": {
      "text/plain": [
       "124"
      ]
     },
     "execution_count": 14,
     "metadata": {},
     "output_type": "execute_result"
    }
   ],
   "source": [
    "len(embeddings_loaded)"
   ]
  },
  {
   "cell_type": "markdown",
   "id": "5c32a62c",
   "metadata": {},
   "source": [
    "## InMemoryIndexDB"
   ]
  },
  {
   "cell_type": "code",
   "execution_count": 59,
   "id": "24110570",
   "metadata": {},
   "outputs": [],
   "source": [
    "from abc import ABC, abstractmethod\n",
    "from dataclasses import dataclass\n",
    "\n",
    "@dataclass(frozen=True)\n",
    "class IndexDBDocument:\n",
    "    id: int\n",
    "    reference: str\n",
    "    text: str\n",
    "    embedding: np.ndarray\n",
    "\n",
    "\n",
    "@dataclass(frozen=True)\n",
    "class IndexDBDocumentResult(IndexDBDocument):\n",
    "    distance: float\n",
    "\n",
    "\n",
    "class InMemoryIndexDBInterface(ABC):\n",
    "    @abstractmethod\n",
    "    def add(self, reference: str, text: str, embedding: np.ndarray) -> None: pass\n",
    "\n",
    "    @abstractmethod\n",
    "    def add_batch(self, reference: str, text: list[str], embedding: np.ndarray[np.ndarray]) -> None: pass\n",
    "\n",
    "    @abstractmethod\n",
    "    def search(self, query: str, k: int = 5) -> list[IndexDBDocumentResult]: pass"
   ]
  },
  {
   "cell_type": "code",
   "execution_count": null,
   "id": "4dd664bb",
   "metadata": {},
   "outputs": [],
   "source": [
    "class HNSWInMemoryIndexDB(InMemoryIndexDBInterface):\n",
    "    def __init__(self, space: str = \"cosine\", ef_construction: int = 200, m: int = 16) -> None:\n",
    "        self._space = space\n",
    "        self._ef_construction = ef_construction\n",
    "        self._m = m\n",
    "\n",
    "        self._documents: dict[int, IndexDBDocument] = {}\n",
    "\n",
    "    def add(self, reference: str, text: str, embedding: np.ndarray) -> None:\n",
    "        start_id = len(self._documents)\n",
    "        self._documents[start_id] = IndexDBDocument(\n",
    "            id=start_id,\n",
    "            reference=reference,\n",
    "            text=text,\n",
    "            embedding=embedding\n",
    "        )\n",
    "\n",
    "    def add_batch(self, reference: str, texts: list[str], embeddings: np.ndarray[np.ndarray]) -> None:\n",
    "        start_id = len(self._documents)\n",
    "        self._documents |=  {\n",
    "            i: IndexDBDocument(\n",
    "                id=start_id + i,\n",
    "                reference=reference,\n",
    "                text=texts[i],\n",
    "                embedding=embeddings[i]\n",
    "            )\n",
    "            for i in range(0, len(texts))\n",
    "        }\n",
    "\n",
    "    def search(self, query: str, k: int = 5) -> list[IndexDBDocumentResult]:\n",
    "        query_embedding = self._embed_query(query)\n",
    "\n",
    "        ids, embeddings = zip(*[(doc.id, doc.embedding) for doc in self._documents.values()])\n",
    "\n",
    "        index = self._create_index(ids, embeddings)\n",
    "\n",
    "        labels, distances = index.knn_query(query_embedding, k=k)\n",
    "\n",
    "        prepared_search_result = [\n",
    "            IndexDBDocumentResult(\n",
    "                distance=distance,\n",
    "                **asdict(self._documents[label])\n",
    "            )\n",
    "            for (label, distance) in zip(labels[0], distances[0])\n",
    "        ]\n",
    "\n",
    "        return prepared_search_result\n",
    "\n",
    "    def _create_index(self, ids: list[int], embeddings: list[np.ndarray]) -> hnswlib.Index:\n",
    "        index = hnswlib.Index(space=self._space, dim=embeddings[0].shape[0])\n",
    "\n",
    "        index.init_index(max_elements=len(ids), ef_construction=self._ef_construction, M=self._m)\n",
    "        index.add_items(embeddings, ids)\n",
    "\n",
    "        return index\n",
    "\n",
    "    def _embed_query(self, query: str) -> np.ndarray:\n",
    "        response = openai.embeddings.create(\n",
    "            input=query,\n",
    "            model=\"text-embedding-3-large\"\n",
    "        )\n",
    "\n",
    "        embedding = np.array([record.embedding for record in response.data], dtype=np.float32)\n",
    "\n",
    "        return embedding"
   ]
  },
  {
   "cell_type": "code",
   "execution_count": 88,
   "id": "d1bee7c6",
   "metadata": {},
   "outputs": [
    {
     "name": "stdout",
     "output_type": "stream",
     "text": [
      "(3072,)\n"
     ]
    },
    {
     "data": {
      "text/plain": [
       "[IndexDBDocumentResult(id=76, reference='https://de.wikipedia.org/wiki/Adolf_Hitler', text=', 1936\\nVom 1. Mai 1920 bis zum 5. Oktober 1929 wohnte Hitler in München in der Thierschstraße 41 im Stadtteil Lehel. 1929 zog er in eine 9-Zimmer-Wohnung im Stadtteil Bogenhausen, Prinzregentenplatz 16, ein. Ab 1934 nutzte er die Wohnung kaum mehr, obwohl sie seine Meldeadresse blieb. Im Sommer 1933 kaufte er das Haus Wachenfeld auf dem Obersalzberg bei Berchtesgaden und ließ es bis Mitte 1936 zum Berghof umbauen.[475]\\nZwischen 1926 und 1931 korrespondierte er vertraulich mit Maria Reiter, einer Urlaubsbekanntschaft, lehnte aber ihren Ehewunsch ab. 1928 mietete er auf dem Obersalzberg ein Landhaus, in das seine Halbschwester Angela Raubal und deren beide Töchter einzogen. 1929 ließ er seine Halbnichte Geli Raubal in seine Münchner Wohnung einziehen und zwang sie, eine Liebesbeziehung zu seinem Chauffeur Emil Maurice zu beenden. Am 19. September 1931 wurde sie mit seinem Revolver erschossen aufgefunden; ein Suizid wurde angenommen. Hitler nutzte diesen Verlust zur Selbstdarstellung gegenüber Parteifreunden: Er wolle „[…] nur noch uneigennützig seiner politischen Mission zum Wohle des deutschen Volkes […] dienen.“[476]\\n\\nEva Braun und Adolf Hitler auf dem Berghof, 14. Juni 1942\\nSeit Januar 1932 kamen Gerüchte auf, dass Hitler mit Eva Braun, einer Angestellten seines Fotografen Heinrich Hoffmann, ein intimes Verhältnis habe. Nach einem Suizidversuch von ihr ging er ein festeres Verhältnis zu ihr ein, das er jedoch bis zu seinem Tod nicht öffentlich bekannt machte.[477] Eine Ehe mit ihr lehnte er bis kurz vor ihrem gemeinsamen Selbstmord ab.\\nHitler war seit seiner Jugendzeit Nichtraucher.[478] Nach seiner Haftentlassung 1924 schränkte er seinen Konsum von Alkohol und Fleisch ein.[479] Ab 1932 ernährte er sich aus Furcht vor Magenkrebs vegetarisch.[480] Diese Gewohnheit thematisierte er in Monologen vor engsten Anhängern als Mittel für die nationalsozialistische Gesundheitspolitik nach dem Krieg.[478]\\nSeit dem Ersten Weltkrieg mochte und hielt Hitler Hunde.[481] Oft ließ er sich mit seiner Schäferhündin Blondi vor idyllischen Landschaften abbilden, um so seine private angebliche Tierliebe und Naturverbundenheit vorzuführen, den Deutschen Identifikation zu ermöglichen und eine verbreitete Sehnsucht nach Harmonie zwischen Führer und Geführten zu bedienen.[482]\\nHitler lehnte Hochschulen, Professoren („Profaxe“) und etablierte Wissenschaft lebenslang ab und eignete sich Detailwissen autodidaktisch an. Er konnte sich gelesene Informationen dauerhaft merken und flocht sie bei Bedarf ohne Herkunftsangaben in Reden, Gespräche oder Monologe ein, um sie als eigene Ideen auszugeben.[483] Er besaß 16.000 Bücher, von denen noch rund 1.200 erhalten sind und in der Library of Congress in Washington stehen. Rund die Hälfte davon ist militärische Gebrauchsliteratur; mehr als jedes zehnte Buch behandelt rechte Esoterik, Okkultismus, deutschnationale und antisemitische Themen. Nur wenige Werke gehören zur schönen Literatur, etwa einige Dramen William Shakespeares. Zwischen 1919 und 1921 lieh sich Hitler aus der Bibliothek des Starnberger Zahnarztes Friedrich Krohn verschiedene Werke aus, etwa von Leopold von Ranke, zur Russischen Revolution, von Montesquieu, Jean-Baptiste Rousseau, Immanuel Kant, Schopenhauer, Oswald Spengler, aber auch von Antisemiten wie Houston Stewart Chamberlain, Henry Ford, Anton Drexler, Gottfried Feder und Dietrich Eckart. Während seiner Haftzeit in Landsberg soll sich Hitler mit Karl Marx, Friedrich Nietzsche, Heinrich von Treitschke und Otto von Bismarck befasst haben. Anstreichungen und Randnotizen zeigen sein Leseverhalten.[484] Er beherrschte keine Fremdsprache, nur etwas Französisch seit seiner Realschulzeit.[485] Auslandspresseberichte ließ er sich von seinem Chefdolmetscher Paul-Otto Schmidt übersetzen.\\n\\nHistorische Einordnungen\\nDie Hitler-Forschung fragt vor allem, wie Hitler ohne berufliche und charakterliche Qualifikation zum Kanzler und Diktator aufsteigen konnte, welche Ziele er hatte und welche Rolle er im NS-Staat spielte, besonders im Krieg und beim Holocaust.[486]\\nFriedrich Meinecke war 1946 der Ansicht, Hitler sei vom preußischen Milit', embedding=array([ 0.03163381, -0.01309155,  0.00311444, ..., -0.00974648,\n",
       "         0.01939437, -0.01115493], dtype=float32), distance=0.43746436),\n",
       " IndexDBDocumentResult(id=80, reference='https://de.wikipedia.org/wiki/Adolf_Hitler', text='ikanern, die Hitler im Ersten Weltkrieg entwickelte, wesentlich seine Weltanschauung prägte, von der er sich leiten ließ.[512]\\n\\nVeröffentlichungen\\nMein Kampf.\\nBand 1: Eine Abrechnung. Franz Eher Verlag, München (Juli) 1925; 2. Auflage ebenda (Dezember) 1925; weitere Auflagen: 1926, 1932 ff.\\nBand 2: Die nationalsozialistische Bewegung. Franz Eher Verlag, München (Dezember) 1926; 2. Auflage ebenda 1927; weitere Auflagen: 1932 ff.\\nAdolf Hitlers Reden. Hrsg. von Ernst Boepple. Boepple, München 1925.\\nDie Südtiroler Frage und das deutsche Bündnisproblem. Eher, München 1926.\\nDie Reden Hitlers am Reichsparteitag 1933. Eher, München 1934.\\nRede des Reichskanzlers Adolf Hitler vor dem Reichstag am 13. Juli 1934. Müller, Berlin 1934.\\nDie Reden Hitlers am Parteitag der Freiheit 1935. Eher, München 1935.\\nReden des Führers am Parteitag der Ehre 1936. 6. Auflage. Eher, München 1936.\\nFührerbotschaft an Volk und Welt. Eher, München 1938.\\nReden des Führers am Parteitag Großdeutschland 1938. 6. Auflage. Eher, München 1939.\\nReichstagsrede vom 6. Oktober 1939. Eher, München 1939.\\nDer großdeutsche Freiheitskampf. Reden Adolf Hitlers. Hrsg. von Philipp Bouhler. 3 Bände. Eher, München 1940–1943.\\nQuelleneditionen\\nHitler. Reden, Schriften, Anordnungen. Februar 1925 bis Januar 1933. Hrsg. vom Institut für Zeitgeschichte. De Gruyter Saur, München 1992–2003.\\nBand I: Die Wiedergründung der NSDAP. Februar 1925 – Juni 1926. Herausgegeben und kommentiert von Clemens Vollnhals. München 1992.\\nBand II: Vom Weimarer Parteitag bis zur Reichstagswahl. Juli 1926 – Mai 1928. Herausgegeben und kommentiert von Bärbel Dusik. München 1993.\\nTeil I: Juli 1926 – Juli 1927\\nTeil II: August 1927 – Mai 1928\\nBand II/A: Außenpolitische Standortbestimmung nach der Reichstagswahl. Juni–Juli 1928. Eingeleitet von Gerhard L. Weinberg. Herausgegeben und kommentiert von Gerhard L. Weinberg, Christian Hartmann und Klaus A. Lankheit. München 1995.\\nBand III: Zwischen den Reichstagswahlen. Juli 1928 – September 1930.\\nTeil 1: Juli 1928 – Februar 1929. Herausgegeben und kommentiert von Bärbel Dusik und Klaus A. Lankheit unter Mitwirkung von Christian Hartmann. München 1994.\\nTeil 2: März 1929 – Dezember 1929. Herausgegeben und kommentiert von Klaus A. Lankheit. München 1994.\\nTeil 3: Januar 1930 – September 1930. Herausgegeben und kommentiert von Christian Hartmann. München 1995.\\nBand IV: Von der Reichstagswahl bis zur Reichspräsidentenwahl. Oktober 1930 – März 1932.\\nTeil 1: Oktober 1930 – Juni 1931. Herausgegeben und kommentiert von Constantin Goschler. München 1994.\\nTeil 2: Juli 1931 – Dezember 1931. Herausgegeben und kommentiert von Christian Hartmann. München 1995.\\nTeil 3: Januar bis März 1932. Herausgegeben und kommentiert von Christian Hartmann. München 1997.\\nBand V: Von der Reichspräsidentenwahl bis zur Machtergreifung. April 1932 – Januar 1933.\\nTeil 1: April 1932 – September 1932. Herausgegeben und kommentiert von Klaus A. Lankheit. München 1996.\\nTeil 2: Oktober 1932 – Januar 1933. Herausgegeben und kommentiert von Christian Hartmann und Klaus A. Lankheit. München 1998.\\nBand VI: Register, Karten und Nachträge. Herausgegeben und kommentiert von Christian Hartmann Katja Klee und Klaus A. Lankheit. München 2003.\\nErgänzungsband: Der Hitler-Prozess 1924. Herausgegeben von Lothar Gruchmann und Reinhard Weber unter Mitarbeit von Otto Gritschneder. München 1997–1999.\\nJosef Becker, Ruth Becker (Hrsg.): Hitlers Machtergreifung. Dokumente vom Machtantritt Hitlers 30. Januar 1933 bis zur Besiegelung des Einparteienstaates ', embedding=array([ 0.02864862, -0.01814771, -0.00367195, ..., -0.00761989,\n",
       "         0.00856227, -0.00290963], dtype=float32), distance=0.46545523),\n",
       " IndexDBDocumentResult(id=77, reference='https://de.wikipedia.org/wiki/Adolf_Hitler', text=' noch rund 1.200 erhalten sind und in der Library of Congress in Washington stehen. Rund die Hälfte davon ist militärische Gebrauchsliteratur; mehr als jedes zehnte Buch behandelt rechte Esoterik, Okkultismus, deutschnationale und antisemitische Themen. Nur wenige Werke gehören zur schönen Literatur, etwa einige Dramen William Shakespeares. Zwischen 1919 und 1921 lieh sich Hitler aus der Bibliothek des Starnberger Zahnarztes Friedrich Krohn verschiedene Werke aus, etwa von Leopold von Ranke, zur Russischen Revolution, von Montesquieu, Jean-Baptiste Rousseau, Immanuel Kant, Schopenhauer, Oswald Spengler, aber auch von Antisemiten wie Houston Stewart Chamberlain, Henry Ford, Anton Drexler, Gottfried Feder und Dietrich Eckart. Während seiner Haftzeit in Landsberg soll sich Hitler mit Karl Marx, Friedrich Nietzsche, Heinrich von Treitschke und Otto von Bismarck befasst haben. Anstreichungen und Randnotizen zeigen sein Leseverhalten.[484] Er beherrschte keine Fremdsprache, nur etwas Französisch seit seiner Realschulzeit.[485] Auslandspresseberichte ließ er sich von seinem Chefdolmetscher Paul-Otto Schmidt übersetzen.\\n\\nHistorische Einordnungen\\nDie Hitler-Forschung fragt vor allem, wie Hitler ohne berufliche und charakterliche Qualifikation zum Kanzler und Diktator aufsteigen konnte, welche Ziele er hatte und welche Rolle er im NS-Staat spielte, besonders im Krieg und beim Holocaust.[486]\\nFriedrich Meinecke war 1946 der Ansicht, Hitler sei vom preußischen Militarismus stark gefördert worden, habe die Kanzlerschaft nur zufällig von Hindenburg erhalten. Mit ihm sei ein „satanisches Prinzip“ und „innere Fremdherrschaft“ in die deutsche Geschichte getreten.[487] Diese Sicht diente in der Nachkriegszeit dazu, „alles oder fast alles Hitler und eben nicht ‚den Deutschen‘ zur Last“ zu legen.[488]\\nSchon 1936 hatte Konrad Heiden Hitlers Politik als detaillierten Plan zum Erringen der Weltherrschaft beschrieben. Dagegen erklärte Hermann Rauschning 1939, Hitler sei ein Machtpolitiker ohne klare Ziele und benutze außenpolitische Gelegenheiten nur für Machtgewinn. Dieser Sicht folgte 1952 Alan Bullock, der erste international anerkannte Hitlerbiograf: Hitler sei ein „völlig prinzipienloser Opportunist“ mit nur einer Idee gewesen, nämlich „seine eigene und die Macht der Nation, mit der er sich identifizierte, immer weiter auszudehnen“.[489] Laut Alan J. P. Taylor (1961) wollte Hitler wie frühere deutsche Politiker nur Deutschlands kontinentale Großmachtstellung wiederherstellen. Dagegen begründete Hugh Trevor-Roper 1960 mit späteren Aussagen Hitlers seine Ansicht, Hitler habe konsequent sein frühes Lebensraum-Konzept durchgehalten und verwirklicht.[490]\\nGünter Moltmann vertrat 1961 die Ansicht, Hitler habe die Weltherrschaft angestrebt.[491] Andreas Hillgruber führte 1963 aus: Hitler habe zuerst Kontinentaleuropa, dann den Nahen Osten und die britischen Kolonien erobern wollen, um später die USA besiegen und die Welt beherrschen zu können.[492] Klaus Hildebrand, Jost Dülffer, Jochen Thies, Milan Hauner und andere „Globalisten“ stützten Hillgrubers These mit Spezialuntersuchungen. Auch für die „Kontinentalisten“ (Trevor-Roper, Eberhard Jäckel, Axel Kuhn) bestimmte Hitler die NS-Außenpolitik und hielt sein rassistisches Lebensraumprogramm und eine dauerhafte Weltmachtstellung Deutschlands bei allen taktischen Wendungen als Kernziele durch.[493]\\nSchon 1941 meinte Ernst Fraenkel: Die Konkurrenz zwischen Verwaltungsbehörden und NSDAP habe Hitlers Handlungsspielraum begrenzt.[494] In den 1970er Jahren stritt die Forschung darüber, ob eher individuelle Absichten oder eher allgemeine Entwicklungen und anonyme Machtstrukturen die NS-Zeit bestimmten und ob Hitler eher ein „starker“, die Geschichte eigenwillig bestimmender oder eher ein „schwacher“, auf Zeitumstände und Sachzwänge reagierender Diktator war.[495]\\nHitlers Rolle beim Holocaust war besonders umstritten. „Intentionalisten“ wie Hillgruber und Jäckel[496] sahen Hitlers „rassenideologisches Programm“ und konsequent verfolgte Vernichtungsabsicht als entscheidenden Faktor, auch wenn er nicht jede einzelne Eskalationsstufe des Holocaust initiiert habe.[497] „Funktionalisten“ wie Hans Mommsen und Martin Broszat dagegen erklärten den Holocaust aus einer kumulierenden Eigendynamik und einem komplexen Bed', embedding=array([ 0.03484083, -0.01559932, -0.00040609, ..., -0.01435702,\n",
       "         0.02433776, -0.00984663], dtype=float32), distance=0.46632075)]"
      ]
     },
     "execution_count": 88,
     "metadata": {},
     "output_type": "execute_result"
    }
   ],
   "source": [
    "db = HNSWInMemoryIndexDB()\n",
    "db.add_batch(reference=\"https://de.wikipedia.org/wiki/Adolf_Hitler\", texts=chunks, embeddings=embeddings_loaded)\n",
    "\n",
    "query = \"How many books did hitler owned?\"\n",
    "results = db.search(query=query, k=3)\n",
    "\n",
    "results"
   ]
  },
  {
   "cell_type": "code",
   "execution_count": 82,
   "id": "46809352",
   "metadata": {},
   "outputs": [
    {
     "data": {
      "text/plain": [
       "[76, 77, 82]"
      ]
     },
     "execution_count": 82,
     "metadata": {},
     "output_type": "execute_result"
    }
   ],
   "source": [
    "# db._documents[76].text\n",
    "[result.id for result in results]"
   ]
  },
  {
   "cell_type": "markdown",
   "id": "4ab99520",
   "metadata": {},
   "source": [
    "## Search HNSW"
   ]
  },
  {
   "cell_type": "code",
   "execution_count": 43,
   "id": "bf5626ae",
   "metadata": {},
   "outputs": [],
   "source": [
    "import hnswlib\n",
    "\n",
    "def build_hnsw_index(embeddings, space='cosine'):\n",
    "    dim = embeddings.shape[1]\n",
    "    num_elements = embeddings.shape[0]\n",
    "\n",
    "    # Index initialisieren\n",
    "    index = hnswlib.Index(space=space, dim=dim)\n",
    "    index.init_index(max_elements=num_elements, ef_construction=200, M=16)\n",
    "\n",
    "    # Vektoren hinzufügen (IDs = 0 .. N-1)\n",
    "    index.add_items(embeddings, ids=list(range(num_elements)))\n",
    "\n",
    "    # Suchqualität einstellen\n",
    "    index.set_ef(50)\n",
    "\n",
    "    return index\n"
   ]
  },
  {
   "cell_type": "code",
   "execution_count": null,
   "id": "7b30a73f",
   "metadata": {},
   "outputs": [],
   "source": [
    "def search_embedding(query_text, index, model=\"text-embedding-3-large\", top_k=5):\n",
    "    # Query vektorisieren\n",
    "    response = openai.embeddings.create(\n",
    "        input=query_text,\n",
    "        model=model\n",
    "    )\n",
    "    query_embedding = np.array(response.data[0].embedding, dtype=np.float32)\n",
    "\n",
    "    # Suche im Index\n",
    "    labels, distances = index.knn_query(query_embedding, k=top_k)\n",
    "\n",
    "    return labels[0], distances[0]\n"
   ]
  },
  {
   "cell_type": "code",
   "execution_count": 45,
   "id": "d172fa05",
   "metadata": {},
   "outputs": [
    {
     "name": "stdout",
     "output_type": "stream",
     "text": [
      "Top Matches (IDs): [76 80 77 79 82]\n",
      "Cosine-Distanzen: [0.4374538  0.46544337 0.4662735  0.48625815 0.48945975]\n"
     ]
    }
   ],
   "source": [
    "# Schritt 2: Index erstellen\n",
    "index = build_hnsw_index(embeddings_loaded)\n",
    "\n",
    "# Schritt 3: Suche starten\n",
    "query = \"How many books did hitler owned?\"\n",
    "ids, scores = search_embedding(query, index)\n",
    "\n",
    "print(\"Top Matches (IDs):\", ids)\n",
    "print(\"Cosine-Distanzen:\", scores)\n"
   ]
  },
  {
   "cell_type": "code",
   "execution_count": 51,
   "id": "f78965ab",
   "metadata": {},
   "outputs": [],
   "source": [
    "output_file = \"results.txt\"\n",
    "\n",
    "with open(output_file, \"w\", encoding=\"utf-8\") as f:\n",
    "    for i in ids:\n",
    "        f.write(f\"Chunk {i}:\\n\")\n",
    "        f.write(chunks[i])\n",
    "        f.write(\"\\n\" + \"=\"*80 + \"\\n\\n\")  # Trenner zwischen Chunks\n"
   ]
  }
 ],
 "metadata": {
  "kernelspec": {
   "display_name": "base",
   "language": "python",
   "name": "python3"
  },
  "language_info": {
   "codemirror_mode": {
    "name": "ipython",
    "version": 3
   },
   "file_extension": ".py",
   "mimetype": "text/x-python",
   "name": "python",
   "nbconvert_exporter": "python",
   "pygments_lexer": "ipython3",
   "version": "3.11.4"
  }
 },
 "nbformat": 4,
 "nbformat_minor": 5
}
